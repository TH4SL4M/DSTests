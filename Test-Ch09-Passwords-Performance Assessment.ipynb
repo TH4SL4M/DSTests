{
  "cells": [
    {
      "cell_type": "markdown",
      "id": "a3adbc50",
      "metadata": {},
      "source": "# Understanding Password Strength\n## CourseKata Performance Assessment\n\nThis assessment was originally designed for college students, so some parts may feel challenging. Just do your best and use this opportunity to show what you have learned.\n\nRun the code below to get started."
    },
    {
      "cell_type": "code",
      "execution_count": null,
      "id": "e01cb5b5",
      "metadata": {
        "trusted": true
      },
      "outputs": [],
      "source": "# load coursekata package\nsuppressPackageStartupMessages({\nlibrary(coursekata)\n})\n\n# get the data\npw_data <- read.csv(\"https://docs.google.com/spreadsheets/d/e/2PACX-1vSYR6mecmran9-VSd4MppNE2pKUeCxeMX0y42utpc8pizCnuY9-cwpXLuS9mjiquRGgg7iSbq8KoqQI/pub?output=csv\") %>%\n  mutate(contains_number = as.factor(contains_number),\n         contains_special = as.factor(contains_special),\n         contains_upper_lower = as.factor(contains_upper_lower))\n"
    },
    {
      "cell_type": "markdown",
      "id": "3a1860c4",
      "metadata": {},
      "source": "## 1. Understanding Password Strength\n\nIn today’s digital world, passwords are one of the most common forms of security. However, not all passwords are created equal. Some passwords are extremely easy to guess, while others are much harder to crack.\n\nSecurity researchers measure password strength based on factors like:\n\n- **Length:** Longer passwords tend to be harder to guess.\n- **Complexity:** Including a mix of uppercase and lowercase letters, numbers, and special characters can make a password stronger.\n- **Unpredictability:** Common words or sequences (like \"password\" or \"123456\") are much weaker than random combinations of characters.\n\n### The `pw_data` data frame\n\nToday we'll look at the dataset `pw_data` . \n\n#### About `pw_data` \n\nThis dataset contains **192 passwords** that were part of a simulated data leak. The data is inspired by real-world password data from [Information is Beautiful](https://docs.google.com/spreadsheets/d/1cz7TDhm0ebVpySqbTvrHrD3WpxeyE4hLZtifWSnoNTQ/edit#gid=21) and [TidyTuesday](https://github.com/rfordatascience/tidytuesday/blob/main/data/2020/2020-01-14/readme.md)) but has been modified for educational purposes. \n\nThe dataset includes several pieces of information about each password, including its length, estimated strength, and an estimate of how long it would take to \"crack\" using a computer program designed to guess passwords. **Your job is to explore patterns in the dataset to find out what features make a password stronger or harder to guess.**\n\n#### Variables in `pw_data`\n\n- `password_text` The actual password text.\n- `password_length` The number of characters in the password.\n- `password_strength` A score from 1 to 10 indicating the estimated strength of the password (the higher the score the stronger the password).\n- `crack_time_sec` The estimated time (in seconds) it would take a computer program to correctly guess the password. \n- `contains_number` 1 means the password contains at least one number; 0 means it does not.\n- `contains_special` 1 means the password contains at least one special character (`!@#$%^&*` etc.); 0 means it does not.\n- `contains_upper_lower` 1 means the password contains both uppercase and lowercase letters; 0 means it does not."
    },
    {
      "cell_type": "markdown",
      "id": "844d5462",
      "metadata": {},
      "source": "### 1.2 Write some code to see what's in the data frame"
    },
    {
      "cell_type": "code",
      "execution_count": null,
      "id": "531db409",
      "metadata": {
        "nbsimplegrader": {
          "config_key": "code.response",
          "editable": true,
          "label": "Response: Code",
          "respondable": true,
          "response": null,
          "runnable": true,
          "type": "code"
        },
        "scrolled": true,
        "trusted": true
      },
      "outputs": [],
      "source": "# code here"
    },
    {
      "cell_type": "markdown",
      "id": "10af149e",
      "metadata": {},
      "source": "### 1.3 Which variables in the data frame would be possible outcome variables for your analysis? Which one will you choose to use for your analysis? Explain why."
    },
    {
      "cell_type": "markdown",
      "id": "52fdb939",
      "metadata": {
        "nbsimplegrader": {
          "config_key": "markdown.response",
          "editable": true,
          "label": "Response: Markdown",
          "respondable": true,
          "response": null,
          "runnable": true,
          "type": "markdown"
        }
      },
      "source": "(a) List the possible outcome variables\n\n(b) Which variable will you use as the outcome variable?\n\n(c) Why did you choose that variable?"
    },
    {
      "cell_type": "markdown",
      "id": "88556e32",
      "metadata": {},
      "source": "## 2. Explore Variation\n\n### 2.1 Create a visualization to help you examine the distribution of the outcome variable. "
    },
    {
      "cell_type": "code",
      "execution_count": null,
      "id": "71b693b6",
      "metadata": {
        "nbsimplegrader": {
          "config_key": "code.response",
          "editable": true,
          "label": "Response: Code",
          "respondable": true,
          "response": null,
          "runnable": true,
          "type": "code"
        },
        "scrolled": false,
        "trusted": true
      },
      "outputs": [],
      "source": "# code here"
    },
    {
      "cell_type": "markdown",
      "id": "979446e5",
      "metadata": {},
      "source": "### 2.2 Describe what you notice about the distribution. \n\nDoes the distribution make sense? Do you see any unusual patterns or weird things? Consider the features of a distribution that are important to comment on. "
    },
    {
      "cell_type": "markdown",
      "id": "ac4a880e",
      "metadata": {
        "nbsimplegrader": {
          "config_key": "markdown.response",
          "editable": true,
          "label": "Response: Markdown",
          "respondable": true,
          "response": null,
          "runnable": true,
          "type": "markdown"
        }
      },
      "source": ""
    },
    {
      "cell_type": "markdown",
      "id": "cbe13b55",
      "metadata": {},
      "source": "### 2.3 Formulate a hypothesis\n\nLet's use password_strength as the outcome variable. Write a word equation to represent the hypothesis that longer passwords are stronger passwords (as indicated by `password_strength`)."
    },
    {
      "cell_type": "markdown",
      "id": "05270cd9",
      "metadata": {
        "nbsimplegrader": {
          "config_key": "markdown.response",
          "editable": true,
          "label": "Response: Markdown",
          "respondable": true,
          "response": null,
          "runnable": true,
          "type": "markdown"
        }
      },
      "source": ""
    },
    {
      "cell_type": "markdown",
      "id": "8fa80f6e",
      "metadata": {},
      "source": "### 2.4 Create a visualization to explore the  hypothesis\n\nCreate **at least one** data visualization to explore the hypothesis.  "
    },
    {
      "cell_type": "code",
      "execution_count": null,
      "id": "07232318",
      "metadata": {
        "nbsimplegrader": {
          "config_key": "code.response",
          "editable": true,
          "label": "Response: Code",
          "respondable": true,
          "response": null,
          "runnable": true,
          "type": "code"
        },
        "trusted": true
      },
      "outputs": [],
      "source": "# code here"
    },
    {
      "cell_type": "markdown",
      "id": "bce861ae",
      "metadata": {},
      "source": "### 2.5 Interpret Your Visualization  \nLook at the visualization you created above. Does your visualization support your hypothesis? Why or why not?\n\n(Optional) What other patterns or trends do you notice in your data?   "
    },
    {
      "cell_type": "markdown",
      "id": "75f1b4d8",
      "metadata": {
        "nbsimplegrader": {
          "config_key": "markdown.response",
          "editable": true,
          "label": "Response: Markdown",
          "respondable": true,
          "response": null,
          "runnable": true,
          "type": "markdown"
        }
      },
      "source": ""
    },
    {
      "cell_type": "markdown",
      "id": "49f6f737",
      "metadata": {},
      "source": "## 3. Model Variation"
    },
    {
      "cell_type": "markdown",
      "id": "51691e49",
      "metadata": {},
      "source": "### 3.1 Fit and visualize the model  \n\nNow that you've explored the hypothesis with a plot, let's fit a model to describe the relationship between your chosen outcome and explanatory variable.\n\nIn the cell below, write R code to: \n1. Fit your model and save it as `my_model`.  \n2. Fit an empty model and save it as `empty_model`.  \n3. Recreate your visualization, then put the `empty_model` and `my_model` onto it.  \n"
    },
    {
      "cell_type": "code",
      "execution_count": null,
      "id": "6ed1d69b",
      "metadata": {
        "nbsimplegrader": {
          "config_key": "code.response",
          "editable": true,
          "label": "Response: Code",
          "respondable": true,
          "response": null,
          "runnable": true,
          "type": "code"
        },
        "trusted": true
      },
      "outputs": [],
      "source": "# code here"
    },
    {
      "cell_type": "markdown",
      "id": "368f2b55",
      "metadata": {},
      "source": "### 3.2 Compare models visually\n\nDoes `my_model` seem to fit the data better than the empty model? Explain your answer."
    },
    {
      "cell_type": "markdown",
      "id": "a5627804",
      "metadata": {
        "nbsimplegrader": {
          "config_key": "markdown.response",
          "editable": true,
          "label": "Response: Markdown",
          "respondable": true,
          "response": null,
          "runnable": true,
          "type": "markdown"
        }
      },
      "source": ""
    },
    {
      "cell_type": "markdown",
      "id": "e7db79fc",
      "metadata": {},
      "source": "### 3.3 Get the parameter estimates  \n\nUse the code cell below to print out the parameter estimates from `my_model`.  "
    },
    {
      "cell_type": "code",
      "execution_count": null,
      "id": "5df2d8dd",
      "metadata": {
        "nbsimplegrader": {
          "config_key": "code.response",
          "editable": true,
          "label": "Response: Code",
          "respondable": true,
          "response": null,
          "runnable": true,
          "type": "code"
        },
        "trusted": true
      },
      "outputs": [],
      "source": "# code here"
    },
    {
      "cell_type": "markdown",
      "id": "c3c1528a",
      "metadata": {},
      "source": "### 3.4 Interpret the parameter estimates  \n\nLook at the parameter estimates from `my_model`. What does each estimate mean? How do the estimates relate to the hypothesis?  "
    },
    {
      "cell_type": "markdown",
      "id": "79337a15",
      "metadata": {
        "nbsimplegrader": {
          "config_key": "markdown.response",
          "editable": true,
          "label": "Response: Markdown",
          "respondable": true,
          "response": null,
          "runnable": true,
          "type": "markdown"
        }
      },
      "source": "(a) What does each estimate mean?\n\n(b) How do the estimates relate to the hypothesis?\n"
    },
    {
      "cell_type": "markdown",
      "id": "dd2e108c",
      "metadata": {},
      "source": "### 3.5 Write the model in GLM notation  \n\nNow that you've found the best-fitting model based on the hypothesis, express it using General Linear Model (GLM) notation, substituting in the actual parameter estimates from `my_model`.\n\n(If you aren't sure how to write mathematical notation in markdown, feel free to use regular letters such as X1, b0, or even just write the name of the variable such as password_strength.)"
    },
    {
      "cell_type": "markdown",
      "id": "8c97df8c",
      "metadata": {
        "nbsimplegrader": {
          "config_key": "markdown.response",
          "editable": true,
          "label": "Response: Markdown",
          "respondable": true,
          "response": null,
          "runnable": true,
          "type": "markdown"
        }
      },
      "source": ""
    },
    {
      "cell_type": "markdown",
      "id": "e3a906df",
      "metadata": {},
      "source": "### 3.6 Write R code to generate measures of how well the model fits the data\n\nIn order to assess how well the model fits the data, we need to examine some quantitative measures of model fit. Write R code to generate such measures. "
    },
    {
      "cell_type": "code",
      "execution_count": null,
      "id": "ddbaad27",
      "metadata": {
        "nbsimplegrader": {
          "config_key": "code.response",
          "editable": true,
          "label": "Response: Code",
          "respondable": true,
          "response": null,
          "runnable": true,
          "type": "code"
        },
        "trusted": true
      },
      "outputs": [],
      "source": "# code here"
    },
    {
      "cell_type": "markdown",
      "id": "2e768166",
      "metadata": {},
      "source": "### 3.7 Assess model fit  \n\nHow well does the model fit the data? Explain your answer using one or more quantitative measures (such as PRE, F, or SS).\n"
    },
    {
      "cell_type": "markdown",
      "id": "d33c7af8",
      "metadata": {
        "nbsimplegrader": {
          "config_key": "markdown.response",
          "editable": true,
          "label": "Response: Markdown",
          "respondable": true,
          "response": null,
          "runnable": true,
          "type": "markdown"
        }
      },
      "source": ""
    },
    {
      "cell_type": "markdown",
      "id": "5ff4a098",
      "metadata": {},
      "source": "## 4. Conclusion  \n\nNow that you've explored your hypothesis, fit a model, and assessed how well the model explains variation in the outcome, take a step back and reflect on what you’ve learned."
    },
    {
      "cell_type": "markdown",
      "id": "e51e3f81",
      "metadata": {},
      "source": "### 4.1 Summarize your findings  and Interpret the results \nIn a paragraph or two, describe how the results from your data analysis relate to the original hypothesis. Cite quantitative evidence to support your answer. Also discuss the implications of your findings for password security policies, and suggest any follow up questions you'd like to follow up on in a later data analysis."
    },
    {
      "cell_type": "markdown",
      "id": "90bcf1e3",
      "metadata": {
        "nbsimplegrader": {
          "config_key": "markdown.response",
          "editable": true,
          "label": "Response: Markdown",
          "respondable": true,
          "response": null,
          "runnable": true,
          "type": "markdown"
        }
      },
      "source": ""
    },
    {
      "cell_type": "markdown",
      "id": "9ed20b5a",
      "metadata": {},
      "source": "## 5 (Optional) What is data science **to you**?\n\nNow that you are nearing the end of your class, take a moment to reflect. This section is entirely optional and will not be graded. "
    },
    {
      "cell_type": "markdown",
      "id": "7e8efcce",
      "metadata": {},
      "source": "### 5.1 If your friend asked you to describe what data science is, what would you tell them?"
    },
    {
      "cell_type": "markdown",
      "id": "7140597a",
      "metadata": {
        "nbsimplegrader": {
          "config_key": "markdown.response",
          "editable": true,
          "label": "Response: Markdown",
          "respondable": true,
          "response": null,
          "runnable": true,
          "type": "markdown"
        }
      },
      "source": ""
    },
    {
      "cell_type": "markdown",
      "id": "3fe0ad22",
      "metadata": {
        "nbsimplegrader": {
          "config_key": "markdown.multiple-choice",
          "editable": false,
          "label": "Response: Multiple-Choice",
          "respondable": true,
          "response": null,
          "runnable": false,
          "type": "multiple-choice"
        }
      },
      "source": "### 5.2 Where do you think data science should be taught in high school?\n\n- As part of a computer science course\n- As part of a math course\n- As part of a statistics course\n- As a stand alone-course\n- Other"
    },
    {
      "cell_type": "markdown",
      "id": "2fc3c667",
      "metadata": {},
      "source": "### 5.2b If you marked \"other\" in the question above, where do you think data science should be taught in high school?"
    },
    {
      "cell_type": "markdown",
      "id": "d7b2e306",
      "metadata": {
        "nbsimplegrader": {
          "config_key": "markdown.response",
          "editable": true,
          "label": "Response: Markdown",
          "respondable": true,
          "response": null,
          "runnable": true,
          "type": "markdown"
        }
      },
      "source": ""
    },
    {
      "cell_type": "markdown",
      "id": "a5741918",
      "metadata": {},
      "source": "### 5.3 Why do you think data science should be taught that way?"
    },
    {
      "cell_type": "markdown",
      "id": "5a90a4a9",
      "metadata": {
        "nbsimplegrader": {
          "config_key": "markdown.response",
          "editable": true,
          "label": "Response: Markdown",
          "respondable": true,
          "response": null,
          "runnable": true,
          "type": "markdown"
        }
      },
      "source": ""
    }
  ],
  "metadata": {
    "kernelspec": {
      "display_name": "R",
      "language": "R",
      "name": "ir"
    },
    "language_info": {
      "codemirror_mode": "r",
      "file_extension": ".r",
      "mimetype": "text/x-r-source",
      "name": "R",
      "pygments_lexer": "r",
      "version": "4.3.3"
    },
    "nbsimplegrader": {
      "publish_config": {
        "classes": [
          "DataScience_Aday_2024_thaslam",
          "2024B_thaslam"
        ],
        "options": {
          "include_submit": true,
          "lock_notebook": true
        },
        "tools": []
      }
    }
  },
  "nbformat": 4,
  "nbformat_minor": 5
}
